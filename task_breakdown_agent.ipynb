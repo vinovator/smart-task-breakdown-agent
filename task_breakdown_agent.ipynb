{
 "cells": [
  {
   "cell_type": "code",
   "execution_count": 41,
   "id": "09b94cdb-8895-45ae-acd6-95f14d2c9661",
   "metadata": {},
   "outputs": [],
   "source": [
    "from openai import OpenAI\n",
    "import os\n",
    "import json\n",
    "from datetime import datetime\n",
    "import toml"
   ]
  },
  {
   "cell_type": "markdown",
   "id": "070cfa40-d305-4490-9310-9c7ed4a5321c",
   "metadata": {},
   "source": [
    "#### Setup API Key"
   ]
  },
  {
   "cell_type": "code",
   "execution_count": 45,
   "id": "6d2270cb-2abf-4e82-8b73-9746794831be",
   "metadata": {},
   "outputs": [],
   "source": [
    "my_api_key = toml.load(\"config.toml\")[\"openai\"][\"api_key\"]\n",
    "client = OpenAI(api_key = my_api_key)"
   ]
  },
  {
   "cell_type": "markdown",
   "id": "dc223232-c3e5-44e3-8dc6-c7418b22e704",
   "metadata": {},
   "source": [
    "#### Agent Prompt Template"
   ]
  },
  {
   "cell_type": "code",
   "execution_count": 46,
   "id": "e06e6125-5edc-4429-8373-f85dd31e5915",
   "metadata": {},
   "outputs": [],
   "source": [
    "agent_prompt = \"\"\"\n",
    "You are a professional task planning agent.\n",
    "\n",
    "Your job is to breakdown the user's goal into a set of 5-10 clear, actionable steps. \n",
    "Make the steps concise, specific, and logical. Each steup should build on the previous one. \n",
    "For each step, include: Step description, Estimated time, Suggested tools or resources (if any)\n",
    "The goal is: {goal}\n",
    "\n",
    "Give your output as a numbered list.\n",
    "\"\"\""
   ]
  },
  {
   "cell_type": "markdown",
   "id": "10af7186-3c9d-43f5-83f3-3c5187e4777b",
   "metadata": {},
   "source": [
    "#### Agent Function"
   ]
  },
  {
   "cell_type": "code",
   "execution_count": 47,
   "id": "53b66de0-3e52-404e-927a-862ba3547856",
   "metadata": {},
   "outputs": [],
   "source": [
    "def breakdown_goal(goal):\n",
    "    \"\"\"\n",
    "    # role = system: Tells GPT what kind of agent it is. This shapes its personality and rules.\n",
    "    # role = user: The actual prompt (instructions + user's goal)\n",
    "    # temperature: Controls randomness\n",
    "        0.0 = deterministic, good for strict tasks.\n",
    "        0.7 = balanced creativity and structure\n",
    "    \"\"\"\n",
    "    response = client.chat.completions.create(\n",
    "        model = \"gpt-4o-mini\",\n",
    "        messages = [\n",
    "            {\"role\": \"system\", \"content\": \"You are a helpful assistant that breaks goals into tasks.\"},\n",
    "            {\"role\": \"user\", \"content\": agent_prompt.format(goal=goal)}\n",
    "        ],\n",
    "        temperature = 0.7\n",
    "    )\n",
    "    return response.choices[0].message.content.strip()"
   ]
  },
  {
   "cell_type": "markdown",
   "id": "1ffb18ea-1443-4629-94a8-6e37e619653e",
   "metadata": {},
   "source": [
    "#### Run the Agent"
   ]
  },
  {
   "cell_type": "code",
   "execution_count": 48,
   "id": "66fba270-12df-41c8-aa42-e85325358254",
   "metadata": {},
   "outputs": [
    {
     "name": "stdout",
     "output_type": "stream",
     "text": [
      "Task Breakdown:\n",
      " Here's a breakdown of the goal to plan a deeply researched, elegantly and concisely written LinkedIn blog post:\n",
      "\n",
      "1. **Define the Blog Post Topic and Purpose**\n",
      "   - **Step Description:** Choose a specific topic that aligns with your expertise and audience interests. Determine the purpose of the post (e.g., to inform, persuade, or share insights).\n",
      "   - **Estimated Time:** 1 hour\n",
      "   - **Suggested Tools/Resources:** Mind mapping tools (e.g., MindMeister), keyword research tools (e.g., Google Trends)\n",
      "\n",
      "2. **Conduct Preliminary Research**\n",
      "   - **Step Description:** Gather information on the chosen topic, including statistics, recent trends, and relevant articles. Take notes on key points that resonate with your writing style.\n",
      "   - **Estimated Time:** 2-3 hours\n",
      "   - **Suggested Tools/Resources:** Academic databases (e.g., Google Scholar), online articles, and industry reports\n",
      "\n",
      "3. **Create an Outline for the Blog Post**\n",
      "   - **Step Description:** Organize your research into a structured outline. Include an introduction, key points for the body, and a conclusion. Ensure the flow aligns with your writing style.\n",
      "   - **Estimated Time:** 1 hour\n",
      "   - **Suggested Tools/Resources:** Outlining tools (e.g., Microsoft Word, Notion)\n",
      "\n",
      "4. **Draft the Blog Post**\n",
      "   - **Step Description:** Write the first draft based on your outline. Focus on clarity and conciseness while ensuring that your unique voice shines through.\n",
      "   - **Estimated Time:** 2-4 hours\n",
      "   - **Suggested Tools/Resources:** Writing software (e.g., Google Docs, Grammarly for editing)\n",
      "\n",
      "5. **Revise and Edit the Draft**\n",
      "   - **Step Description:** Review the draft for coherence, grammar, and adherence to your writing style. Make edits to improve flow, clarity, and engagement.\n",
      "   - **Estimated Time:** 1-2 hours\n",
      "   - **Suggested Tools/Resources:** Editing tools (e.g., Hemingway App, Grammarly)\n",
      "\n",
      "6. **Incorporate Visuals and Formatting**\n",
      "   - **Step Description:** Add relevant visuals (e.g., images, infographics) and format the text for readability. Use headings, bullet points, and short paragraphs to enhance presentation.\n",
      "   - **Estimated Time:** 1 hour\n",
      "   - **Suggested Tools/Resources:** Canva for visual creation, LinkedIn formatting guidelines\n",
      "\n",
      "7. **Solicit Feedback from Peers**\n",
      "   - **Step Description:** Share the draft with trusted colleagues or friends to gather constructive feedback. Use their insights to refine the post further.\n",
      "   - **Estimated Time:** 1 hour\n",
      "   - **Suggested Tools/Resources:** Email or collaboration platforms (e.g., Slack, Microsoft Teams)\n",
      "\n",
      "8. **Finalize the Blog Post**\n",
      "   - **Step Description:** Make final adjustments based on feedback. Ensure that the post is polished and ready for publication.\n",
      "   - **Estimated Time:** 30 minutes\n",
      "   - **Suggested Tools/Resources:** Writing software (e.g., Google Docs)\n",
      "\n",
      "9. **Publish the Blog Post on LinkedIn**\n",
      "   - **Step Description:** Post your finalized blog on LinkedIn. Craft an engaging introduction to grab attention and use appropriate hashtags.\n",
      "   - **Estimated Time:** 30 minutes\n",
      "   - **Suggested Tools/Resources:** LinkedIn publishing platform\n",
      "\n",
      "10. **Promote the Blog Post**\n",
      "    - **Step Description:** Share the link on your other social media platforms and encourage engagement (likes, comments, shares) to increase visibility.\n",
      "    - **Estimated Time:** 1 hour\n",
      "    - **Suggested Tools/Resources:** Social media management tools (e.g., Buffer, Hootsuite) \n",
      "\n",
      "By following these steps, you'll be able to create a well-researched and elegantly written LinkedIn blog post that resonates with your audience.\n"
     ]
    }
   ],
   "source": [
    "user_goal = \"Plan a deeply researched, elegantly and concisely writter LinkedIn blogpost conforming to my writing style\"\n",
    "plan = breakdown_goal(user_goal)\n",
    "\n",
    "print(\"Task Breakdown:\\n\", plan)"
   ]
  },
  {
   "cell_type": "markdown",
   "id": "c9ce3ff4-5a01-4c43-bbfe-810a4537cd4a",
   "metadata": {},
   "source": [
    "#### Add Simple Memory (JSON file)"
   ]
  },
  {
   "cell_type": "markdown",
   "id": "45897196-d150-4ed8-9393-ec03e452036b",
   "metadata": {},
   "source": [
    "- Save goals + tasks to a local JSON file\n",
    "- Retreive previous sessions\n",
    "- View task history"
   ]
  },
  {
   "cell_type": "code",
   "execution_count": 49,
   "id": "69a52606-ef95-42f7-a2ca-c2b86707e56f",
   "metadata": {},
   "outputs": [],
   "source": [
    "# Json file to save goals and task plan\n",
    "MEMORY_FILE = \"task_memory.json\""
   ]
  },
  {
   "cell_type": "code",
   "execution_count": 50,
   "id": "71e1005f-d632-4a2c-803b-f3ff47afc2bc",
   "metadata": {},
   "outputs": [],
   "source": [
    "# Save task plan\n",
    "def save_task(goal, task_list):\n",
    "\n",
    "    # Open the memory file if it exists, else create one\n",
    "    if os.path.exists(MEMORY_FILE):\n",
    "        with open(MEMORY_FILE, \"r\") as f:\n",
    "            memory = json.load(f)\n",
    "    else:\n",
    "        memory = []\n",
    "\n",
    "    # Add to memory\n",
    "    memory.append(\n",
    "        {\n",
    "            \"timestamp\": datetime.now().isoformat(),\n",
    "            \"goal\": goal,\n",
    "            \"tasks\": task_list\n",
    "        }\n",
    "    )\n",
    "\n",
    "    # Update the memory in json file\n",
    "    with open(MEMORY_FILE, \"w\") as f:\n",
    "        json.dump(memory, f, indent=2)"
   ]
  },
  {
   "cell_type": "code",
   "execution_count": 51,
   "id": "915fbf04-63ae-4caf-9275-84314d64e8e2",
   "metadata": {},
   "outputs": [],
   "source": [
    "# View task history\n",
    "def view_memory():\n",
    "    if not os.path.exists(MEMORY_FILE):\n",
    "        return []\n",
    "    with open(MEMORY_FILE, \"r\") as f:\n",
    "        return json.load(f)"
   ]
  },
  {
   "cell_type": "markdown",
   "id": "da7d9e07-691d-440e-8633-ef43217d7851",
   "metadata": {},
   "source": [
    "#### Updated Agent Function with memory"
   ]
  },
  {
   "cell_type": "code",
   "execution_count": 52,
   "id": "6cbf51de-a1f8-4c8e-a5ba-6a54a2a87b8b",
   "metadata": {},
   "outputs": [],
   "source": [
    "def breakdown_goal_with_memory(goal):\n",
    "    \"\"\"\n",
    "    # role = system: Tells GPT what kind of agent it is. This shapes its personality and rules.\n",
    "    # role = user: The actual prompt (instructions + user's goal)\n",
    "    # temperature: Controls randomness\n",
    "        0.0 = deterministic, good for strict tasks.\n",
    "        0.7 = balanced creativity and structure\n",
    "    \"\"\"\n",
    "    response = client.chat.completions.create(\n",
    "        model = \"gpt-4o-mini\",\n",
    "        messages = [\n",
    "            {\"role\": \"system\", \"content\": \"You are a helpful assistant that breaks goals into tasks.\"},\n",
    "            {\"role\": \"user\", \"content\": agent_prompt.format(goal=goal)}\n",
    "        ],\n",
    "        temperature = 0.7\n",
    "    )\n",
    "\n",
    "    task_list = response.choices[0].message.content.strip()\n",
    "    save_task(goal, task_list)\n",
    "    \n",
    "    return task_list"
   ]
  },
  {
   "cell_type": "markdown",
   "id": "789b3ca8-d584-447f-9007-c35a3fbaf6d4",
   "metadata": {},
   "source": [
    "#### Run the updated Agent"
   ]
  },
  {
   "cell_type": "code",
   "execution_count": 53,
   "id": "ae49ec4f-174e-4a4f-bd8e-7801dfbf9408",
   "metadata": {},
   "outputs": [
    {
     "name": "stdout",
     "output_type": "stream",
     "text": [
      "Task Breakdown:\n",
      " Here’s a breakdown of your goal to write an MBA assignment into actionable steps:\n",
      "\n",
      "1. **Understand Assignment Requirements**  \n",
      "   - **Step Description**: Review the assignment prompt carefully to identify key requirements, objectives, and grading criteria.  \n",
      "   - **Estimated Time**: 1 hour  \n",
      "   - **Suggested Tools/Resources**: Assignment guidelines document, university rubric.\n",
      "\n",
      "2. **Choose a Topic**  \n",
      "   - **Step Description**: Select a relevant topic that aligns with the assignment requirements and personal interest.  \n",
      "   - **Estimated Time**: 30 minutes  \n",
      "   - **Suggested Tools/Resources**: Brainstorming tools (mind maps), academic articles for inspiration.\n",
      "\n",
      "3. **Conduct Preliminary Research**  \n",
      "   - **Step Description**: Gather initial information on the chosen topic through scholarly articles, books, and online resources.  \n",
      "   - **Estimated Time**: 2 hours  \n",
      "   - **Suggested Tools/Resources**: Google Scholar, university library databases, citation management software (e.g., Zotero, EndNote).\n",
      "\n",
      "4. **Create an Outline**  \n",
      "   - **Step Description**: Develop a structured outline that includes the introduction, main points, and conclusion based on your research findings.  \n",
      "   - **Estimated Time**: 1 hour  \n",
      "   - **Suggested Tools/Resources**: Word processing software (e.g., Microsoft Word, Google Docs).\n",
      "\n",
      "5. **Write the First Draft**  \n",
      "   - **Step Description**: Write a complete draft of the assignment using the outline as a guide, ensuring to cover all required sections.  \n",
      "   - **Estimated Time**: 3-4 hours  \n",
      "   - **Suggested Tools/Resources**: Word processing software, grammar checking tools (e.g., Grammarly).\n",
      "\n",
      "6. **Review and Edit**  \n",
      "   - **Step Description**: Revise the draft for clarity, coherence, and adherence to assignment requirements. Check for grammatical and spelling errors.  \n",
      "   - **Estimated Time**: 1-2 hours  \n",
      "   - **Suggested Tools/Resources**: Peer review (if available), editing tools (e.g., Hemingway App).\n",
      "\n",
      "7. **Format the Assignment**  \n",
      "   - **Step Description**: Ensure the assignment is formatted according to the specified style guide (APA, MLA, etc.) and includes proper citations.  \n",
      "   - **Estimated Time**: 1 hour  \n",
      "   - **Suggested Tools/Resources**: Style guide resources, citation generators (e.g., Citation Machine).\n",
      "\n",
      "8. **Seek Feedback**  \n",
      "   - **Step Description**: Share the assignment with a classmate or mentor for constructive feedback before final submission.  \n",
      "   - **Estimated Time**: 1 hour  \n",
      "   - **Suggested Tools/Resources**: Email or document sharing platforms (e.g., Google Drive).\n",
      "\n",
      "9. **Final Revisions**  \n",
      "   - **Step Description**: Incorporate feedback received and make final adjustments to improve the quality of the assignment.  \n",
      "   - **Estimated Time**: 1 hour  \n",
      "   - **Suggested Tools/Resources**: Word processing software, feedback notes.\n",
      "\n",
      "10. **Submit the Assignment**  \n",
      "    - **Step Description**: Review submission guidelines and submit the final document via the required platform (e.g., LMS, email).  \n",
      "    - **Estimated Time**: 30 minutes  \n",
      "    - **Suggested Tools/Resources**: Learning Management System (LMS), email.\n",
      "\n",
      "Following these steps will help you organize your time and efforts effectively to complete your MBA assignment successfully.\n"
     ]
    }
   ],
   "source": [
    "user_goal = \"Write an MBA assignment\"\n",
    "plan = breakdown_goal_with_memory(user_goal)\n",
    "\n",
    "print(\"Task Breakdown:\\n\", plan)"
   ]
  },
  {
   "cell_type": "markdown",
   "id": "3e5fef81-4480-48ed-bce3-619064fabb5a",
   "metadata": {},
   "source": [
    "#### View the memory"
   ]
  },
  {
   "cell_type": "code",
   "execution_count": 54,
   "id": "05956475-530e-4e61-8bb2-4485d754f9d9",
   "metadata": {},
   "outputs": [
    {
     "name": "stdout",
     "output_type": "stream",
     "text": [
      "Viewing memory\n",
      "\n",
      "Goal: Write an MBA assignment\n",
      "Sure! Here’s a breakdown of the goal \"Write an MBA assignment\" into actionable steps:\n",
      "\n",
      "1. **Understand the Assignment Requirements**\n",
      "   - **Step Description:** Read the assignment prompt carefully to grasp the objectives, format, and evaluation criteria.\n",
      "   - **Estimated Time:** 1 hour\n",
      "   - **Suggested Tools/Resources:** Course syllabus, assignment rubric, and any provided examples.\n",
      "\n",
      "2. **Conduct Preliminary Research**\n",
      "   - **Step Description:** Gather relevant materials and sources related to the assignment topic to build foundational knowledge.\n",
      "   - **Estimated Time:** 2-3 hours\n",
      "   - **Suggested Tools/Resources:** Academic databases (e.g., JSTOR, Google Scholar), library resources, and textbooks.\n",
      "\n",
      "3. **Outline the Assignment Structure**\n",
      "   - **Step Description:** Create a detailed outline that includes the introduction, main points, and conclusion to organize your thoughts.\n",
      "   - **Estimated Time:** 1 hour\n",
      "   - **Suggested Tools/Resources:** Word processor (e.g., Microsoft Word, Google Docs) or mind mapping software.\n",
      "\n",
      "4. **Draft the Assignment**\n",
      "   - **Step Description:** Write the first draft by expanding on each point in the outline, focusing on clarity and flow.\n",
      "   - **Estimated Time:** 3-4 hours\n",
      "   - **Suggested Tools/Resources:** Word processor for writing, citation management tools (e.g., Zotero, EndNote).\n",
      "\n",
      "5. **Revise and Edit the Draft**\n",
      "   - **Step Description:** Review the draft for content, clarity, grammar, and adherence to assignment guidelines; make necessary revisions.\n",
      "   - **Estimated Time:** 2 hours\n",
      "   - **Suggested Tools/Resources:** Grammarly for grammar checking, peer review from classmates.\n",
      "\n",
      "6. **Format the Assignment Properly**\n",
      "   - **Step Description:** Ensure the document meets formatting requirements (e.g., font size, margins, citation style).\n",
      "   - **Estimated Time:** 30 minutes\n",
      "   - **Suggested Tools/Resources:** Style guide (e.g., APA, MLA, Chicago) and formatting templates.\n",
      "\n",
      "7. **Create Supporting Materials (if needed)**\n",
      "   - **Step Description:** Develop any necessary appendices, charts, or graphs that support your findings.\n",
      "   - **Estimated Time:** 1-2 hours\n",
      "   - **Suggested Tools/Resources:** Excel for charts, graphic design software (e.g., Canva) for visuals.\n",
      "\n",
      "8. **Seek Feedback**\n",
      "   - **Step Description:** Share the completed draft with a peer or mentor for constructive feedback.\n",
      "   - **Estimated Time:** 1 hour\n",
      "   - **Suggested Tools/Resources:** Email or collaboration platforms (e.g., Google Docs) for sharing.\n",
      "\n",
      "9. **Incorporate Feedback and Finalize**\n",
      "   - **Step Description:** Revise the assignment based on feedback received and finalize the document.\n",
      "   - **Estimated Time:** 1-2 hours\n",
      "   - **Suggested Tools/Resources:** Word processor for final edits, citation management tools for double-checking references.\n",
      "\n",
      "10. **Submit the Assignment**\n",
      "    - **Step Description:** Ensure all submission requirements are met and submit the assignment by the deadline.\n",
      "    - **Estimated Time:** 30 minutes\n",
      "    - **Suggested Tools/Resources:** Course portal (e.g., Canvas, Blackboard) for submission.\n",
      "\n",
      "By following these steps, you will have a structured approach to successfully completing your MBA assignment.\n",
      "\n",
      "Goal: Write an MBA assignment\n",
      "Here’s a breakdown of your goal to write an MBA assignment into actionable steps:\n",
      "\n",
      "1. **Understand Assignment Requirements**  \n",
      "   - **Step Description**: Review the assignment prompt carefully to identify key requirements, objectives, and grading criteria.  \n",
      "   - **Estimated Time**: 1 hour  \n",
      "   - **Suggested Tools/Resources**: Assignment guidelines document, university rubric.\n",
      "\n",
      "2. **Choose a Topic**  \n",
      "   - **Step Description**: Select a relevant topic that aligns with the assignment requirements and personal interest.  \n",
      "   - **Estimated Time**: 30 minutes  \n",
      "   - **Suggested Tools/Resources**: Brainstorming tools (mind maps), academic articles for inspiration.\n",
      "\n",
      "3. **Conduct Preliminary Research**  \n",
      "   - **Step Description**: Gather initial information on the chosen topic through scholarly articles, books, and online resources.  \n",
      "   - **Estimated Time**: 2 hours  \n",
      "   - **Suggested Tools/Resources**: Google Scholar, university library databases, citation management software (e.g., Zotero, EndNote).\n",
      "\n",
      "4. **Create an Outline**  \n",
      "   - **Step Description**: Develop a structured outline that includes the introduction, main points, and conclusion based on your research findings.  \n",
      "   - **Estimated Time**: 1 hour  \n",
      "   - **Suggested Tools/Resources**: Word processing software (e.g., Microsoft Word, Google Docs).\n",
      "\n",
      "5. **Write the First Draft**  \n",
      "   - **Step Description**: Write a complete draft of the assignment using the outline as a guide, ensuring to cover all required sections.  \n",
      "   - **Estimated Time**: 3-4 hours  \n",
      "   - **Suggested Tools/Resources**: Word processing software, grammar checking tools (e.g., Grammarly).\n",
      "\n",
      "6. **Review and Edit**  \n",
      "   - **Step Description**: Revise the draft for clarity, coherence, and adherence to assignment requirements. Check for grammatical and spelling errors.  \n",
      "   - **Estimated Time**: 1-2 hours  \n",
      "   - **Suggested Tools/Resources**: Peer review (if available), editing tools (e.g., Hemingway App).\n",
      "\n",
      "7. **Format the Assignment**  \n",
      "   - **Step Description**: Ensure the assignment is formatted according to the specified style guide (APA, MLA, etc.) and includes proper citations.  \n",
      "   - **Estimated Time**: 1 hour  \n",
      "   - **Suggested Tools/Resources**: Style guide resources, citation generators (e.g., Citation Machine).\n",
      "\n",
      "8. **Seek Feedback**  \n",
      "   - **Step Description**: Share the assignment with a classmate or mentor for constructive feedback before final submission.  \n",
      "   - **Estimated Time**: 1 hour  \n",
      "   - **Suggested Tools/Resources**: Email or document sharing platforms (e.g., Google Drive).\n",
      "\n",
      "9. **Final Revisions**  \n",
      "   - **Step Description**: Incorporate feedback received and make final adjustments to improve the quality of the assignment.  \n",
      "   - **Estimated Time**: 1 hour  \n",
      "   - **Suggested Tools/Resources**: Word processing software, feedback notes.\n",
      "\n",
      "10. **Submit the Assignment**  \n",
      "    - **Step Description**: Review submission guidelines and submit the final document via the required platform (e.g., LMS, email).  \n",
      "    - **Estimated Time**: 30 minutes  \n",
      "    - **Suggested Tools/Resources**: Learning Management System (LMS), email.\n",
      "\n",
      "Following these steps will help you organize your time and efforts effectively to complete your MBA assignment successfully.\n"
     ]
    }
   ],
   "source": [
    "print(\"Viewing memory\")\n",
    "\n",
    "for entry in view_memory():\n",
    "    print(f\"\\nGoal: {entry['goal']}\")\n",
    "    print(entry[\"tasks\"])"
   ]
  },
  {
   "cell_type": "code",
   "execution_count": null,
   "id": "1f84e45b-6642-43c1-8b83-e762f009cd03",
   "metadata": {},
   "outputs": [],
   "source": []
  }
 ],
 "metadata": {
  "kernelspec": {
   "display_name": "Python [conda env:base] *",
   "language": "python",
   "name": "conda-base-py"
  },
  "language_info": {
   "codemirror_mode": {
    "name": "ipython",
    "version": 3
   },
   "file_extension": ".py",
   "mimetype": "text/x-python",
   "name": "python",
   "nbconvert_exporter": "python",
   "pygments_lexer": "ipython3",
   "version": "3.9.23"
  }
 },
 "nbformat": 4,
 "nbformat_minor": 5
}
